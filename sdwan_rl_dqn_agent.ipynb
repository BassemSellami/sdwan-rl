{
 "cells": [
  {
   "cell_type": "code",
   "execution_count": 1,
   "metadata": {},
   "outputs": [
    {
     "name": "stderr",
     "output_type": "stream",
     "text": [
      "Using TensorFlow backend.\n"
     ]
    }
   ],
   "source": [
    "# Code credit - partially based on https://github.com/gsurma/cartpole/blob/master/cartpole.py\n",
    "import random\n",
    "import gym\n",
    "import gym_sdwan\n",
    "import numpy as np\n",
    "from collections import deque\n",
    "from keras.models import Sequential\n",
    "from keras.layers import Dense\n",
    "from keras.optimizers import Adam"
   ]
  },
  {
   "cell_type": "code",
   "execution_count": 2,
   "metadata": {},
   "outputs": [],
   "source": [
    "ENV_NAME = \"Sdwan-v0\"\n",
    "\n",
    "GAMMA = 0.95\n",
    "LEARNING_RATE = 0.001\n",
    "\n",
    "MEMORY_SIZE = 1000000\n",
    "BATCH_SIZE = 20\n",
    "\n",
    "EXPLORATION_MAX = 1.0\n",
    "EXPLORATION_MIN = 0.01\n",
    "EXPLORATION_DECAY = 0.995"
   ]
  },
  {
   "cell_type": "code",
   "execution_count": 8,
   "metadata": {},
   "outputs": [],
   "source": [
    "class DQNSolver:\n",
    "\n",
    "    def __init__(self, observation_space, action_space):\n",
    "        self.exploration_rate = EXPLORATION_MAX\n",
    "\n",
    "        self.action_space = action_space\n",
    "        self.memory = deque(maxlen=MEMORY_SIZE)\n",
    "\n",
    "        self.model = Sequential()\n",
    "        self.model.add(Dense(24, input_shape=(observation_space,), activation=\"relu\"))\n",
    "        self.model.add(Dense(24, activation=\"relu\"))\n",
    "        self.model.add(Dense(self.action_space, activation=\"linear\"))\n",
    "        self.model.compile(loss=\"mse\", optimizer=Adam(lr=LEARNING_RATE))\n",
    "\n",
    "    def remember(self, state, action, reward, next_state, done):\n",
    "        self.memory.append((state, action, reward, next_state, done))\n",
    "\n",
    "    def act(self, state):\n",
    "        if np.random.rand() < self.exploration_rate:\n",
    "            action = random.randrange(self.action_space)\n",
    "            print (\"Taking random action\", action)\n",
    "            return action\n",
    "        q_values = self.model.predict(state)\n",
    "        action = np.argmax(q_values[0])\n",
    "        print (\"Taking predicted  action\", action)\n",
    "        return action\n",
    "\n",
    "    def experience_replay(self):\n",
    "        if len(self.memory) < BATCH_SIZE:\n",
    "            return\n",
    "        batch = random.sample(self.memory, BATCH_SIZE)\n",
    "        for state, action, reward, state_next, terminal in batch:\n",
    "            q_update = reward\n",
    "            if not terminal:\n",
    "                q_update = (reward + GAMMA * np.amax(self.model.predict(state_next)[0]))\n",
    "            q_values = self.model.predict(state)\n",
    "            q_values[0][action] = q_update\n",
    "            self.model.fit(state, q_values, verbose=0)\n",
    "        self.exploration_rate *= EXPLORATION_DECAY\n",
    "        self.exploration_rate = max(EXPLORATION_MIN, self.exploration_rate)\n"
   ]
  },
  {
   "cell_type": "code",
   "execution_count": 11,
   "metadata": {},
   "outputs": [
    {
     "name": "stdout",
     "output_type": "stream",
     "text": [
      "2018-12-11 12:56:39,988 - root - INFO - SdwanEnv - Version 0.1.0\n",
      "Taking random action 1\n",
      "2018-12-11 12:57:25,845 - root - INFO - current bw:10.0, sla bw:6.0\n",
      "Taking random action 1\n",
      "2018-12-11 12:57:40,875 - root - INFO - current bw:10.0, sla bw:6.0\n",
      "Taking random action 1\n",
      "2018-12-11 12:57:55,908 - root - INFO - current bw:10.0, sla bw:6.0\n",
      "Taking random action 0\n",
      "2018-12-11 12:58:10,949 - root - INFO - current bw:9.25, sla bw:6.0\n",
      "Taking random action 1\n",
      "2018-12-11 12:58:25,991 - root - INFO - current bw:10.0, sla bw:6.0\n",
      "Taking random action 0\n",
      "2018-12-11 12:58:41,021 - root - INFO - current bw:9.04, sla bw:6.0\n",
      "Taking random action 0\n",
      "2018-12-11 12:58:56,057 - root - INFO - current bw:6.55, sla bw:6.0\n",
      "Taking random action 1\n",
      "2018-12-11 12:59:11,093 - root - INFO - current bw:10.0, sla bw:6.0\n",
      "Taking random action 0\n",
      "2018-12-11 12:59:26,133 - root - INFO - current bw:7.72, sla bw:6.0\n",
      "Taking random action 1\n",
      "2018-12-11 12:59:41,170 - root - INFO - current bw:10.0, sla bw:6.0\n",
      "Taking random action 0\n",
      "2018-12-11 12:59:56,205 - root - INFO - current bw:9.50, sla bw:6.0\n",
      "Taking random action 1\n",
      "2018-12-11 13:00:11,245 - root - INFO - current bw:10.0, sla bw:6.0\n",
      "Taking random action 1\n",
      "2018-12-11 13:00:26,277 - root - INFO - current bw:10.0, sla bw:6.0\n",
      "Taking random action 0\n",
      "2018-12-11 13:00:41,305 - root - INFO - current bw:12.5, sla bw:6.0\n",
      "Taking random action 0\n",
      "2018-12-11 13:00:56,342 - root - INFO - current bw:12.5, sla bw:6.0\n",
      "Taking random action 0\n",
      "2018-12-11 13:01:11,383 - root - INFO - current bw:6.08, sla bw:6.0\n",
      "Taking random action 1\n",
      "2018-12-11 13:01:26,411 - root - INFO - current bw:10.0, sla bw:6.0\n",
      "Taking random action 0\n",
      "2018-12-11 13:01:41,454 - root - INFO - current bw:7.15, sla bw:6.0\n",
      "Taking random action 1\n",
      "2018-12-11 13:01:56,495 - root - INFO - current bw:10.0, sla bw:6.0\n",
      "Taking random action 0\n",
      "2018-12-11 13:02:11,526 - root - INFO - current bw:8.72, sla bw:6.0\n",
      "Taking random action 0\n",
      "2018-12-11 13:02:38,500 - root - INFO - current bw:6.55, sla bw:6.0\n",
      "Taking random action 1\n",
      "2018-12-11 13:02:53,689 - root - INFO - current bw:10.0, sla bw:6.0\n",
      "Taking random action 0\n",
      "2018-12-11 13:03:08,876 - root - INFO - current bw:7.36, sla bw:6.0\n",
      "Taking random action 0\n",
      "2018-12-11 13:03:24,054 - root - INFO - current bw:10.4, sla bw:6.0\n",
      "Taking random action 1\n",
      "2018-12-11 13:03:39,224 - root - INFO - current bw:10.0, sla bw:6.0\n",
      "Taking random action 0\n",
      "2018-12-11 13:03:54,406 - root - INFO - current bw:11.2, sla bw:6.0\n",
      "Taking predicted  action 0\n",
      "2018-12-11 13:04:09,594 - root - INFO - current bw:6.96, sla bw:6.0\n",
      "Taking random action 0\n",
      "2018-12-11 13:04:24,777 - root - INFO - current bw:9.28, sla bw:6.0\n",
      "Taking random action 1\n",
      "2018-12-11 13:04:39,963 - root - INFO - current bw:10.0, sla bw:6.0\n",
      "Taking random action 0\n",
      "current link failure\n",
      "Max ticks over, ending episode\n",
      "2018-12-11 13:04:55,137 - root - INFO - current bw:5.52, sla bw:6.0\n",
      "2018-12-11 13:04:55,139 - root - INFO - BW is less than SLA\n",
      "Run: 1, exploration: 0.9511101304657719, score: 15\n",
      "Taking random action 0\n",
      "2018-12-11 13:05:25,270 - root - INFO - current bw:6.41, sla bw:6.0\n",
      "Taking random action 1\n"
     ]
    },
    {
     "ename": "KeyboardInterrupt",
     "evalue": "",
     "output_type": "error",
     "traceback": [
      "\u001b[0;31m---------------------------------------------------------------------------\u001b[0m",
      "\u001b[0;31mKeyboardInterrupt\u001b[0m                         Traceback (most recent call last)",
      "\u001b[0;32m<ipython-input-11-c4dfaae2708c>\u001b[0m in \u001b[0;36m<module>\u001b[0;34m\u001b[0m\n\u001b[1;32m     15\u001b[0m         \u001b[0;31m#env.render()\u001b[0m\u001b[0;34m\u001b[0m\u001b[0;34m\u001b[0m\u001b[0m\n\u001b[1;32m     16\u001b[0m         \u001b[0maction\u001b[0m \u001b[0;34m=\u001b[0m \u001b[0mdqn_solver\u001b[0m\u001b[0;34m.\u001b[0m\u001b[0mact\u001b[0m\u001b[0;34m(\u001b[0m\u001b[0mstate\u001b[0m\u001b[0;34m)\u001b[0m\u001b[0;34m\u001b[0m\u001b[0m\n\u001b[0;32m---> 17\u001b[0;31m         \u001b[0mstate_next\u001b[0m\u001b[0;34m,\u001b[0m \u001b[0mreward\u001b[0m\u001b[0;34m,\u001b[0m \u001b[0mterminal\u001b[0m\u001b[0;34m,\u001b[0m \u001b[0minfo\u001b[0m \u001b[0;34m=\u001b[0m \u001b[0menv\u001b[0m\u001b[0;34m.\u001b[0m\u001b[0mstep\u001b[0m\u001b[0;34m(\u001b[0m\u001b[0maction\u001b[0m\u001b[0;34m)\u001b[0m\u001b[0;34m\u001b[0m\u001b[0m\n\u001b[0m\u001b[1;32m     18\u001b[0m         \u001b[0;31m#reward = reward if not terminal else -reward\u001b[0m\u001b[0;34m\u001b[0m\u001b[0;34m\u001b[0m\u001b[0m\n\u001b[1;32m     19\u001b[0m         \u001b[0mstate_next\u001b[0m \u001b[0;34m=\u001b[0m \u001b[0mnp\u001b[0m\u001b[0;34m.\u001b[0m\u001b[0mreshape\u001b[0m\u001b[0;34m(\u001b[0m\u001b[0mstate_next\u001b[0m\u001b[0;34m,\u001b[0m \u001b[0;34m[\u001b[0m\u001b[0;36m1\u001b[0m\u001b[0;34m,\u001b[0m \u001b[0mobservation_space\u001b[0m\u001b[0;34m]\u001b[0m\u001b[0;34m)\u001b[0m\u001b[0;34m\u001b[0m\u001b[0m\n",
      "\u001b[0;32m~/sdwan-gym/gym_sdwan/envs/sdwan_env.py\u001b[0m in \u001b[0;36mstep\u001b[0;34m(self, action)\u001b[0m\n\u001b[1;32m    102\u001b[0m                  \u001b[0muse\u001b[0m \u001b[0mthis\u001b[0m \u001b[0;32mfor\u001b[0m \u001b[0mlearning\u001b[0m\u001b[0;34m.\u001b[0m\u001b[0;34m\u001b[0m\u001b[0m\n\u001b[1;32m    103\u001b[0m         \"\"\"\n\u001b[0;32m--> 104\u001b[0;31m         \u001b[0mself\u001b[0m\u001b[0;34m.\u001b[0m\u001b[0mtake_action\u001b[0m\u001b[0;34m(\u001b[0m\u001b[0maction\u001b[0m\u001b[0;34m)\u001b[0m\u001b[0;34m\u001b[0m\u001b[0m\n\u001b[0m\u001b[1;32m    105\u001b[0m         \u001b[0mreward\u001b[0m \u001b[0;34m=\u001b[0m \u001b[0mself\u001b[0m\u001b[0;34m.\u001b[0m\u001b[0mget_reward\u001b[0m\u001b[0;34m(\u001b[0m\u001b[0;34m)\u001b[0m\u001b[0;34m\u001b[0m\u001b[0m\n\u001b[1;32m    106\u001b[0m         \u001b[0mob\u001b[0m \u001b[0;34m=\u001b[0m \u001b[0mself\u001b[0m\u001b[0;34m.\u001b[0m\u001b[0mget_state\u001b[0m\u001b[0;34m(\u001b[0m\u001b[0;34m)\u001b[0m\u001b[0;34m\u001b[0m\u001b[0m\n",
      "\u001b[0;32m~/sdwan-gym/gym_sdwan/envs/sdwan_env.py\u001b[0m in \u001b[0;36mtake_action\u001b[0;34m(self, action)\u001b[0m\n\u001b[1;32m    108\u001b[0m \u001b[0;34m\u001b[0m\u001b[0m\n\u001b[1;32m    109\u001b[0m     \u001b[0;32mdef\u001b[0m \u001b[0mtake_action\u001b[0m\u001b[0;34m(\u001b[0m\u001b[0mself\u001b[0m\u001b[0;34m,\u001b[0m \u001b[0maction\u001b[0m\u001b[0;34m)\u001b[0m\u001b[0;34m:\u001b[0m\u001b[0;34m\u001b[0m\u001b[0m\n\u001b[0;32m--> 110\u001b[0;31m         \u001b[0mself\u001b[0m\u001b[0;34m.\u001b[0m\u001b[0mepisode_over\u001b[0m \u001b[0;34m=\u001b[0m \u001b[0mself\u001b[0m\u001b[0;34m.\u001b[0m\u001b[0mbackend\u001b[0m\u001b[0;34m.\u001b[0m\u001b[0mswitch_link\u001b[0m\u001b[0;34m(\u001b[0m\u001b[0maction\u001b[0m\u001b[0;34m)\u001b[0m\u001b[0;34m\u001b[0m\u001b[0m\n\u001b[0m\u001b[1;32m    111\u001b[0m \u001b[0;34m\u001b[0m\u001b[0m\n\u001b[1;32m    112\u001b[0m         \u001b[0mself\u001b[0m\u001b[0;34m.\u001b[0m\u001b[0mticks\u001b[0m \u001b[0;34m+=\u001b[0m \u001b[0;36m1\u001b[0m\u001b[0;34m\u001b[0m\u001b[0m\n",
      "\u001b[0;32m~/sdwan-gym/gym_sdwan/envs/mininet_backend.py\u001b[0m in \u001b[0;36mswitch_link\u001b[0;34m(self, action)\u001b[0m\n\u001b[1;32m    207\u001b[0m         \u001b[0mself\u001b[0m\u001b[0;34m.\u001b[0m\u001b[0mactive_link\u001b[0m  \u001b[0;34m=\u001b[0m \u001b[0maction\u001b[0m\u001b[0;34m\u001b[0m\u001b[0m\n\u001b[1;32m    208\u001b[0m \u001b[0;34m\u001b[0m\u001b[0m\n\u001b[0;32m--> 209\u001b[0;31m         \u001b[0mself\u001b[0m\u001b[0;34m.\u001b[0m\u001b[0mtake_measurements\u001b[0m\u001b[0;34m(\u001b[0m\u001b[0;34m)\u001b[0m\u001b[0;34m\u001b[0m\u001b[0m\n\u001b[0m\u001b[1;32m    210\u001b[0m \u001b[0;34m\u001b[0m\u001b[0m\n\u001b[1;32m    211\u001b[0m         \u001b[0;31m## Here is the logic that checks  two subsequent SLA failures\u001b[0m\u001b[0;34m\u001b[0m\u001b[0;34m\u001b[0m\u001b[0m\n",
      "\u001b[0;32m~/sdwan-gym/gym_sdwan/envs/mininet_backend.py\u001b[0m in \u001b[0;36mtake_measurements\u001b[0;34m(self)\u001b[0m\n\u001b[1;32m    131\u001b[0m         \u001b[0;31m# wait for  traffic flow to settle\u001b[0m\u001b[0;34m\u001b[0m\u001b[0;34m\u001b[0m\u001b[0m\n\u001b[1;32m    132\u001b[0m         \u001b[0;31m# if you set this too low, output file will not be generated properly !!!!!!\u001b[0m\u001b[0;34m\u001b[0m\u001b[0;34m\u001b[0m\u001b[0m\n\u001b[0;32m--> 133\u001b[0;31m         \u001b[0mtime\u001b[0m\u001b[0;34m.\u001b[0m\u001b[0msleep\u001b[0m\u001b[0;34m(\u001b[0m\u001b[0;36m15\u001b[0m\u001b[0;34m)\u001b[0m\u001b[0;34m\u001b[0m\u001b[0m\n\u001b[0m\u001b[1;32m    134\u001b[0m \u001b[0;34m\u001b[0m\u001b[0m\n\u001b[1;32m    135\u001b[0m \u001b[0;34m\u001b[0m\u001b[0m\n",
      "\u001b[0;31mKeyboardInterrupt\u001b[0m: "
     ]
    }
   ],
   "source": [
    "env = gym.make(ENV_NAME)\n",
    "#score_logger = ScoreLogger(ENV_NAME)\n",
    "observation_space = env.observation_space.shape[0]\n",
    "action_space = env.action_space.n\n",
    "dqn_solver = DQNSolver(observation_space, action_space)\n",
    "run = 0\n",
    "score = 0\n",
    "while True:\n",
    "    run += 1\n",
    "    state = env.reset()\n",
    "    state = np.reshape(state, [1, observation_space])\n",
    "    step = 0\n",
    "    while True:\n",
    "        step += 1\n",
    "        #env.render()\n",
    "        action = dqn_solver.act(state)\n",
    "        state_next, reward, terminal, info = env.step(action)\n",
    "        #reward = reward if not terminal else -reward\n",
    "        state_next = np.reshape(state_next, [1, observation_space])\n",
    "        score += reward\n",
    "        dqn_solver.remember(state, action, reward, state_next, terminal)\n",
    "        state = state_next\n",
    "        if terminal:\n",
    "            print (\"Run: \" + str(run) + \", exploration: \" + str(dqn_solver.exploration_rate) + \", score: \" + str(score))\n",
    "            #score_logger.add_score(step, run)\n",
    "            break\n",
    "        dqn_solver.experience_replay()"
   ]
  },
  {
   "cell_type": "code",
   "execution_count": 10,
   "metadata": {},
   "outputs": [],
   "source": [
    "env.cleanup()"
   ]
  },
  {
   "cell_type": "code",
   "execution_count": null,
   "metadata": {},
   "outputs": [],
   "source": []
  }
 ],
 "metadata": {
  "kernelspec": {
   "display_name": "Python 3",
   "language": "python",
   "name": "python3"
  },
  "language_info": {
   "codemirror_mode": {
    "name": "ipython",
    "version": 3
   },
   "file_extension": ".py",
   "mimetype": "text/x-python",
   "name": "python",
   "nbconvert_exporter": "python",
   "pygments_lexer": "ipython3",
   "version": "3.6.6"
  }
 },
 "nbformat": 4,
 "nbformat_minor": 2
}
