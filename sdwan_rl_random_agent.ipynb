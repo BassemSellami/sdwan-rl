{
 "cells": [
  {
   "cell_type": "code",
   "execution_count": 1,
   "metadata": {},
   "outputs": [],
   "source": [
    "import random\n",
    "import gym\n",
    "import gym_sdwan\n",
    "import numpy as np\n",
    "\n",
    "import csv\n",
    "\n",
    "import logging \n",
    "mpl_logger = logging.getLogger('matplotlib') \n",
    "mpl_logger.setLevel(logging.WARNING) \n",
    "\n",
    "import matplotlib.pyplot as plt \n",
    "%matplotlib inline"
   ]
  },
  {
   "cell_type": "code",
   "execution_count": 2,
   "metadata": {},
   "outputs": [],
   "source": [
    "ENV_NAME = \"Sdwan-v0\"\n"
   ]
  },
  {
   "cell_type": "code",
   "execution_count": 3,
   "metadata": {},
   "outputs": [],
   "source": [
    "class RandomAgent:\n",
    "\n",
    "    def __init__(self, observation_space, action_space):\n",
    "        self.action_space = action_space\n",
    " \n",
    "    def act(self, state):\n",
    "        return random.randrange(self.action_space)\n"
   ]
  },
  {
   "cell_type": "code",
   "execution_count": 6,
   "metadata": {},
   "outputs": [
    {
     "name": "stdout",
     "output_type": "stream",
     "text": [
      "2018-12-11 18:04:18,697 - root - INFO - SdwanEnv - Version 0.1.0\n"
     ]
    },
    {
     "name": "stderr",
     "output_type": "stream",
     "text": [
      "/home/amitabha/anaconda3/lib/python3.6/site-packages/gym/envs/registration.py:14: PkgResourcesDeprecationWarning: Parameters to load are deprecated.  Call .resolve and .require separately.\n",
      "  result = entry_point.load(False)\n"
     ]
    },
    {
     "name": "stdout",
     "output_type": "stream",
     "text": [
      "2018-12-11 18:05:05,354 - root - DEBUG - current bw:10.0, sla bw:6.0\n",
      "2018-12-11 18:05:20,394 - root - DEBUG - current bw:10.0, sla bw:6.0\n",
      "2018-12-11 18:05:35,443 - root - DEBUG - current bw:10.0, sla bw:6.0\n",
      "2018-12-11 18:05:50,488 - root - DEBUG - current bw:10.0, sla bw:6.0\n",
      "2018-12-11 18:06:05,537 - root - DEBUG - current bw:6.43, sla bw:6.0\n",
      "2018-12-11 18:06:20,583 - root - DEBUG - current bw:9.62, sla bw:6.0\n",
      "2018-12-11 18:06:35,635 - root - DEBUG - current bw:10.0, sla bw:6.0\n",
      "2018-12-11 18:06:50,741 - root - DEBUG - current bw:10.0, sla bw:6.0\n",
      "2018-12-11 18:07:05,775 - root - DEBUG - current bw:8.46, sla bw:6.0\n",
      "2018-12-11 18:07:20,826 - root - DEBUG - current bw:10.0, sla bw:6.0\n",
      "2018-12-11 18:07:35,948 - root - DEBUG - current bw:7.82, sla bw:6.0\n",
      "2018-12-11 18:07:50,998 - root - DEBUG - current bw:5.42, sla bw:6.0\n",
      "2018-12-11 18:07:51,002 - root - DEBUG - BW is less than SLA\n",
      "2018-12-11 18:08:06,065 - root - DEBUG - current bw:10.0, sla bw:6.0\n",
      "2018-12-11 18:08:21,117 - root - DEBUG - current bw:7.02, sla bw:6.0\n",
      "2018-12-11 18:08:36,156 - root - DEBUG - current bw:10.0, sla bw:6.0\n",
      "2018-12-11 18:08:51,200 - root - DEBUG - current bw:4.53, sla bw:6.0\n",
      "2018-12-11 18:08:51,205 - root - DEBUG - BW is less than SLA\n",
      "2018-12-11 18:09:06,252 - root - DEBUG - current bw:10.0, sla bw:6.0\n",
      "2018-12-11 18:09:21,337 - root - DEBUG - current bw:10.0, sla bw:6.0\n",
      "2018-12-11 18:09:36,369 - root - DEBUG - current bw:10.0, sla bw:6.0\n",
      "2018-12-11 18:09:51,393 - root - DEBUG - current bw:10.0, sla bw:6.0\n",
      "2018-12-11 18:10:06,442 - root - DEBUG - current bw:6.91, sla bw:6.0\n",
      "2018-12-11 18:10:21,479 - root - DEBUG - current bw:8.72, sla bw:6.0\n",
      "2018-12-11 18:10:36,512 - root - DEBUG - current bw:6.66, sla bw:6.0\n",
      "2018-12-11 18:10:51,546 - root - DEBUG - current bw:10.0, sla bw:6.0\n",
      "2018-12-11 18:11:06,592 - root - DEBUG - current bw:5.57, sla bw:6.0\n",
      "2018-12-11 18:11:06,594 - root - DEBUG - BW is less than SLA\n",
      "2018-12-11 18:11:21,632 - root - DEBUG - current bw:4.05, sla bw:6.0\n",
      "2018-12-11 18:11:21,635 - root - DEBUG - BW is less than SLA\n",
      "Run: 1, score: -14\n",
      "2018-12-11 18:11:51,719 - root - DEBUG - current bw:10.0, sla bw:6.0\n",
      "2018-12-11 18:12:06,756 - root - DEBUG - current bw:6.22, sla bw:6.0\n",
      "2018-12-11 18:12:21,843 - root - DEBUG - current bw:10.0, sla bw:6.0\n",
      "2018-12-11 18:12:36,873 - root - DEBUG - current bw:10.0, sla bw:6.0\n",
      "2018-12-11 18:12:51,904 - root - DEBUG - current bw:10.0, sla bw:6.0\n",
      "2018-12-11 18:13:06,945 - root - DEBUG - current bw:10.0, sla bw:6.0\n",
      "2018-12-11 18:13:21,978 - root - DEBUG - current bw:10.0, sla bw:6.0\n",
      "2018-12-11 18:13:37,021 - root - DEBUG - current bw:4.64, sla bw:6.0\n",
      "2018-12-11 18:13:37,024 - root - DEBUG - BW is less than SLA\n",
      "2018-12-11 18:13:52,074 - root - DEBUG - current bw:9.84, sla bw:6.0\n",
      "2018-12-11 18:14:07,116 - root - DEBUG - current bw:9.00, sla bw:6.0\n",
      "2018-12-11 18:14:22,148 - root - DEBUG - current bw:9.76, sla bw:6.0\n",
      "2018-12-11 18:14:37,179 - root - DEBUG - current bw:7.65, sla bw:6.0\n",
      "2018-12-11 18:14:52,217 - root - DEBUG - current bw:10.0, sla bw:6.0\n",
      "2018-12-11 18:15:07,246 - root - DEBUG - current bw:10.0, sla bw:6.0\n",
      "2018-12-11 18:15:22,282 - root - DEBUG - current bw:8.05, sla bw:6.0\n",
      "2018-12-11 18:15:37,319 - root - DEBUG - current bw:10.0, sla bw:6.0\n",
      "2018-12-11 18:15:52,348 - root - DEBUG - current bw:9.67, sla bw:6.0\n",
      "2018-12-11 18:16:07,387 - root - DEBUG - current bw:8.90, sla bw:6.0\n",
      "2018-12-11 18:16:22,420 - root - DEBUG - current bw:5.85, sla bw:6.0\n",
      "2018-12-11 18:16:22,422 - root - DEBUG - BW is less than SLA\n",
      "2018-12-11 18:16:37,468 - root - DEBUG - current bw:10.0, sla bw:6.0\n",
      "2018-12-11 18:16:52,513 - root - DEBUG - current bw:2.66, sla bw:6.0\n",
      "2018-12-11 18:16:52,520 - root - DEBUG - BW is less than SLA\n",
      "2018-12-11 18:17:07,543 - root - DEBUG - current bw:9.05, sla bw:6.0\n",
      "2018-12-11 18:17:22,579 - root - DEBUG - current bw:8.58, sla bw:6.0\n",
      "2018-12-11 18:17:37,614 - root - DEBUG - current bw:8.72, sla bw:6.0\n",
      "2018-12-11 18:17:52,665 - root - DEBUG - current bw:10.0, sla bw:6.0\n",
      "2018-12-11 18:18:07,704 - root - DEBUG - current bw:10.0, sla bw:6.0\n",
      "2018-12-11 18:18:22,752 - root - DEBUG - current bw:5.77, sla bw:6.0\n",
      "2018-12-11 18:18:22,754 - root - DEBUG - BW is less than SLA\n",
      "2018-12-11 18:18:37,799 - root - DEBUG - current bw:10.0, sla bw:6.0\n",
      "2018-12-11 18:18:52,844 - root - DEBUG - current bw:4.13, sla bw:6.0\n",
      "2018-12-11 18:18:52,847 - root - DEBUG - BW is less than SLA\n",
      "2018-12-11 18:19:07,885 - root - INFO - Max ticks over, ending episode\n",
      "2018-12-11 18:19:07,890 - root - DEBUG - current bw:10.0, sla bw:6.0\n",
      "Run: 2, score: -26\n",
      "2018-12-11 18:19:37,970 - root - DEBUG - current bw:10.0, sla bw:6.0\n",
      "2018-12-11 18:19:53,008 - root - DEBUG - current bw:10.0, sla bw:6.0\n",
      "2018-12-11 18:20:08,040 - root - DEBUG - current bw:10.0, sla bw:6.0\n",
      "2018-12-11 18:20:23,078 - root - DEBUG - current bw:10.0, sla bw:6.0\n",
      "2018-12-11 18:20:38,141 - root - DEBUG - current bw:10.0, sla bw:6.0\n",
      "2018-12-11 18:20:53,188 - root - DEBUG - current bw:8.12, sla bw:6.0\n",
      "2018-12-11 18:21:08,229 - root - DEBUG - current bw:10.0, sla bw:6.0\n",
      "2018-12-11 18:21:23,273 - root - DEBUG - current bw:5.17, sla bw:6.0\n",
      "2018-12-11 18:21:23,277 - root - DEBUG - BW is less than SLA\n",
      "2018-12-11 18:21:38,319 - root - DEBUG - current bw:10.0, sla bw:6.0\n",
      "2018-12-11 18:21:53,369 - root - DEBUG - current bw:10.0, sla bw:6.0\n",
      "2018-12-11 18:22:08,399 - root - DEBUG - current bw:10.0, sla bw:6.0\n",
      "2018-12-11 18:22:23,436 - root - DEBUG - current bw:6.08, sla bw:6.0\n",
      "2018-12-11 18:22:38,473 - root - DEBUG - current bw:7.72, sla bw:6.0\n",
      "2018-12-11 18:22:53,506 - root - DEBUG - current bw:10.0, sla bw:6.0\n",
      "2018-12-11 18:23:08,553 - root - DEBUG - current bw:3.47, sla bw:6.0\n",
      "2018-12-11 18:23:08,556 - root - DEBUG - BW is less than SLA\n",
      "2018-12-11 18:23:23,588 - root - DEBUG - current bw:7.97, sla bw:6.0\n",
      "2018-12-11 18:23:38,622 - root - DEBUG - current bw:5.05, sla bw:6.0\n",
      "2018-12-11 18:23:38,625 - root - DEBUG - BW is less than SLA\n",
      "2018-12-11 18:23:53,661 - root - DEBUG - current bw:10.0, sla bw:6.0\n",
      "2018-12-11 18:24:08,696 - root - DEBUG - current bw:10.0, sla bw:6.0\n",
      "2018-12-11 18:24:23,746 - root - DEBUG - current bw:9.21, sla bw:6.0\n",
      "2018-12-11 18:24:38,779 - root - DEBUG - current bw:10.0, sla bw:6.0\n",
      "2018-12-11 18:24:53,841 - root - DEBUG - current bw:5.44, sla bw:6.0\n",
      "2018-12-11 18:24:53,844 - root - DEBUG - BW is less than SLA\n",
      "2018-12-11 18:25:08,889 - root - DEBUG - current bw:10.0, sla bw:6.0\n",
      "2018-12-11 18:25:23,922 - root - DEBUG - current bw:10.0, sla bw:6.0\n",
      "2018-12-11 18:25:38,982 - root - DEBUG - current bw:5.13, sla bw:6.0\n",
      "2018-12-11 18:25:38,987 - root - DEBUG - BW is less than SLA\n",
      "2018-12-11 18:25:54,044 - root - DEBUG - current bw:10.0, sla bw:6.0\n",
      "2018-12-11 18:26:09,085 - root - DEBUG - current bw:6.93, sla bw:6.0\n",
      "2018-12-11 18:26:24,127 - root - DEBUG - current bw:7.20, sla bw:6.0\n",
      "2018-12-11 18:26:39,169 - root - DEBUG - current bw:10.0, sla bw:6.0\n",
      "2018-12-11 18:26:54,208 - root - INFO - Max ticks over, ending episode\n",
      "2018-12-11 18:26:54,211 - root - DEBUG - current bw:10.0, sla bw:6.0\n",
      "Run: 3, score: -50\n"
     ]
    }
   ],
   "source": [
    "env = gym.make(ENV_NAME)\n",
    "\n",
    "observation_space = env.observation_space.shape[0]\n",
    "action_space = env.action_space.n\n",
    "agent = RandomAgent(observation_space, action_space)\n",
    "run = 0\n",
    "score = 0\n",
    "MAX_RUN = 3\n",
    "score_card = []\n",
    "while run < MAX_RUN:\n",
    "    run += 1\n",
    "    state = env.reset()\n",
    "    state = np.reshape(state, [1, observation_space])\n",
    "    step = 0\n",
    "    while True:\n",
    "        step += 1\n",
    "        \n",
    "        action = agent.act(state)\n",
    "        state_next, reward, terminal, info = env.step(action)\n",
    "        #reward = reward if not terminal else -reward\n",
    "        state_next = np.reshape(state_next, [1, observation_space])\n",
    "        score += reward\n",
    "        state = state_next\n",
    "        if terminal:\n",
    "            print (\"Run: \" + str(run)  + \", score: \" + str(score))\n",
    "            score_card.append((run, score))\n",
    "            break\n",
    "        "
   ]
  },
  {
   "cell_type": "code",
   "execution_count": 7,
   "metadata": {},
   "outputs": [
    {
     "data": {
      "image/png": "[encoded data removed]",
      "text/plain": [
       "<Figure size 432x288 with 1 Axes>"
      ]
     },
     "metadata": {
      "needs_background": "light"
     },
     "output_type": "display_data"
    }
   ],
   "source": [
    "\n",
    "def draw_graph(data, title):\n",
    "    # x axis values \n",
    "    x =   [x[0] for x in data]\n",
    "    #print (x)\n",
    "    # corresponding y axis values \n",
    "    y =  [x[1] for x in data]\n",
    "    #print (y)\n",
    "\n",
    "    # plotting the points  \n",
    "    plt.plot(x, y) \n",
    "    \n",
    "\n",
    "\n",
    "    # naming the x axis \n",
    "    plt.xlabel('Runs') \n",
    "    # naming the y axis \n",
    "    plt.ylabel('Scores') \n",
    "\n",
    "    # giving a title to my graph \n",
    "    plt.title(title) \n",
    "\n",
    "    # show a legend on the plot \n",
    "    #plt.legend() \n",
    "\n",
    "    # function to show the plot \n",
    "    plt.show() \n",
    "\n",
    "draw_graph(score_card, 'Random Trial')"
   ]
  },
  {
   "cell_type": "code",
   "execution_count": null,
   "metadata": {},
   "outputs": [],
   "source": [
    "with open('random_score_card.csv', 'w') as f:\n",
    "    writer = csv.writer(f)\n",
    "    writer.writerows(score_card)\n"
   ]
  },
  {
   "cell_type": "code",
   "execution_count": 8,
   "metadata": {},
   "outputs": [],
   "source": [
    "env.cleanup()"
   ]
  }
 ],
 "metadata": {
  "kernelspec": {
   "display_name": "Python 3",
   "language": "python",
   "name": "python3"
  },
  "language_info": {
   "codemirror_mode": {
    "name": "ipython",
    "version": 3
   },
   "file_extension": ".py",
   "mimetype": "text/x-python",
   "name": "python",
   "nbconvert_exporter": "python",
   "pygments_lexer": "ipython3",
   "version": "3.6.0"
  }
 },
 "nbformat": 4,
 "nbformat_minor": 2
}
