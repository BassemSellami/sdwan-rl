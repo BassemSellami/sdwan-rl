{
 "cells": [
  {
   "cell_type": "code",
   "execution_count": 1,
   "metadata": {},
   "outputs": [],
   "source": [
    "import gym\n",
    "import gym_sdwan_stat"
   ]
  },
  {
   "cell_type": "code",
   "execution_count": 2,
   "metadata": {},
   "outputs": [],
   "source": [
    "class DQNPlayer:\n",
    "\n",
    "    def __init__(self, observation_space, action_space, model_file):\n",
    "        self.action_space = action_space\n",
    "        self.model = Sequential()\n",
    "        self.model.add(Dense(24, input_shape=(observation_space,), activation=\"relu\"))\n",
    "        self.model.add(Dense(24, activation=\"relu\"))\n",
    "        self.model.add(Dense(self.action_space, activation=\"linear\"))\n",
    "        self.model.compile(loss=\"mse\", optimizer=Adam(lr=LEARNING_RATE))\n",
    "        \n",
    "        model.load_weights(model_file)\n",
    "\n",
    "   \n",
    "    def act(self, state):\n",
    "        q_values = self.model.predict(state)\n",
    "        action = np.argmax(q_values[0])\n",
    "        print (\"Taking predicted  action\", action)\n",
    "        return action\n"
   ]
  },
  {
   "cell_type": "code",
   "execution_count": null,
   "metadata": {},
   "outputs": [],
   "source": [
    "env = gym.make('Sdwan-stat-v0')\n",
    "model_file=\"\"\n",
    "observation_space = env.observation_space.shape[0]\n",
    "action_space = env.action_space.n\n",
    "\n",
    "dqn_player = DQNPlayer(observation_space, action_space, model_file)\n",
    "run = 0\n",
    "MAX_RUN = args.n_episodes\n",
    "score_card = []\n",
    "while run < MAX_RUN:\n",
    "    run += 1\n",
    "    state = env.reset()\n",
    "    state = np.reshape(state, [1, observation_space])\n",
    "    step = 0\n",
    "    score = 0\n",
    "    while True:\n",
    "        step += 1\n",
    "        #env.render()\n",
    "        action = dqn_solver.act(state)\n",
    "        state_next, reward, terminal, info = env.step(action)\n",
    "        #reward = reward if not terminal else -reward\n",
    "        state_next = np.reshape(state_next, [1, observation_space])\n",
    "        score += reward\n",
    "        dqn_solver.remember(state, action, reward, state_next, terminal)\n",
    "        state = state_next\n",
    "        if terminal:\n",
    "                print (\"Run: \" + str(run) + \", exploration: \" + str(dqn_solver.exploration_rate) + \", score: \" + str(score))\n",
    "                score_card.append((run, score, step))\n",
    "                break\n",
    "        \n"
   ]
  },
  {
   "cell_type": "code",
   "execution_count": null,
   "metadata": {},
   "outputs": [],
   "source": [
    "if __name__ == '__main__':\n",
    "    parser = argparse.ArgumentParser('DQN Agent')\n",
    "    parser.add_argument(\n",
    "        '--n-episodes',\n",
    "        type=int,\n",
    "        default=100)\n",
    "    parser.add_argument(\n",
    "        '--n-max-ticks',\n",
    "        type=int,\n",
    "        default=300)\n",
    "    \n",
    "    args = parser.parse_args()\n",
    "\n",
    "    main(args)\n",
    "\n"
   ]
  }
 ],
 "metadata": {
  "kernelspec": {
   "display_name": "Python 3",
   "language": "python",
   "name": "python3"
  },
  "language_info": {
   "codemirror_mode": {
    "name": "ipython",
    "version": 3
   },
   "file_extension": ".py",
   "mimetype": "text/x-python",
   "name": "python",
   "nbconvert_exporter": "python",
   "pygments_lexer": "ipython3",
   "version": "3.6.0"
  }
 },
 "nbformat": 4,
 "nbformat_minor": 2
}
